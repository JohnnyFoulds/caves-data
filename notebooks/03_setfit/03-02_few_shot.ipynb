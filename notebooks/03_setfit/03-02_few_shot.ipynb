{
 "cells": [
  {
   "cell_type": "markdown",
   "metadata": {},
   "source": [
    "# 03-02 : Few-Shot Classification \n",
    "\n",
    "## References\n",
    "\n",
    "- [SetFit for Multilabel Text Classification](https://github.com/huggingface/setfit/blob/main/notebooks/text-classification_multilabel.ipynb)\n",
    "- [mteb/leaderboard](https://huggingface.co/spaces/mteb/leaderboard)\n",
    "- [Alibaba-NLP/gte-large-en-v1.5](https://huggingface.co/Alibaba-NLP/gte-large-en-v1.5)"
   ]
  },
  {
   "cell_type": "code",
   "execution_count": 1,
   "metadata": {},
   "outputs": [
    {
     "name": "stderr",
     "output_type": "stream",
     "text": [
      "2024-05-20 21:00:14.864420: E external/local_xla/xla/stream_executor/cuda/cuda_dnn.cc:9261] Unable to register cuDNN factory: Attempting to register factory for plugin cuDNN when one has already been registered\n",
      "2024-05-20 21:00:14.864447: E external/local_xla/xla/stream_executor/cuda/cuda_fft.cc:607] Unable to register cuFFT factory: Attempting to register factory for plugin cuFFT when one has already been registered\n",
      "2024-05-20 21:00:14.865327: E external/local_xla/xla/stream_executor/cuda/cuda_blas.cc:1515] Unable to register cuBLAS factory: Attempting to register factory for plugin cuBLAS when one has already been registered\n",
      "2024-05-20 21:00:14.869431: I tensorflow/core/platform/cpu_feature_guard.cc:182] This TensorFlow binary is optimized to use available CPU instructions in performance-critical operations.\n",
      "To enable the following instructions: AVX2 FMA, in other operations, rebuild TensorFlow with the appropriate compiler flags.\n",
      "2024-05-20 21:00:15.451140: W tensorflow/compiler/tf2tensorrt/utils/py_utils.cc:38] TF-TRT Warning: Could not find TensorRT\n"
     ]
    }
   ],
   "source": [
    "import pandas as pd\n",
    "import numpy as np\n",
    "from typing import List\n",
    "import matplotlib.pyplot as plt\n",
    "\n",
    "from sklearn.preprocessing import MultiLabelBinarizer\n",
    "from sklearn.metrics import classification_report, jaccard_score, accuracy_score, f1_score\n",
    "from datasets import Dataset\n",
    "from setfit import get_templated_dataset\n",
    "from setfit import SetFitModel, Trainer, TrainingArguments"
   ]
  },
  {
   "cell_type": "code",
   "execution_count": 2,
   "metadata": {},
   "outputs": [],
   "source": [
    "data_path = '../../data'\n",
    "input_path = f'{data_path}/input/labelled_tweets/csv_labels'\n",
    "train_input_file = f'{input_path}/train.csv'\n",
    "test_input_file = f'{input_path}/test.csv'\n",
    "val_input_file = f'{input_path}/val.csv'"
   ]
  },
  {
   "cell_type": "markdown",
   "metadata": {},
   "source": [
    "## 1. Load Data"
   ]
  },
  {
   "cell_type": "code",
   "execution_count": 3,
   "metadata": {},
   "outputs": [],
   "source": [
    "df_train = pd.read_csv(train_input_file)\n",
    "df_val = pd.read_csv(val_input_file)\n",
    "df_test = pd.read_csv(test_input_file)"
   ]
  },
  {
   "cell_type": "markdown",
   "metadata": {},
   "source": [
    "## 2. Preprocessing"
   ]
  },
  {
   "cell_type": "markdown",
   "metadata": {},
   "source": [
    "### 2.1. Labels to List"
   ]
  },
  {
   "cell_type": "code",
   "execution_count": 4,
   "metadata": {},
   "outputs": [],
   "source": [
    "df_train['labels_list'] = df_train['labels'].str.split(' ')\n",
    "df_test['labels_list'] = df_test['labels'].str.split(' ')\n",
    "df_val['labels_list'] = df_val['labels'].str.split(' ')"
   ]
  },
  {
   "cell_type": "markdown",
   "metadata": {},
   "source": [
    "### 2.2. Multi-label Binarization"
   ]
  },
  {
   "cell_type": "code",
   "execution_count": 5,
   "metadata": {},
   "outputs": [
    {
     "name": "stdout",
     "output_type": "stream",
     "text": [
      "Vocabulary size: 12\n",
      "Vocabulary: ['conspiracy' 'country' 'ineffective' 'ingredients' 'mandatory' 'none'\n",
      " 'pharma' 'political' 'religious' 'rushed' 'side-effect' 'unnecessary']\n"
     ]
    }
   ],
   "source": [
    "# get the list of label values\n",
    "labels = pd.concat([df_train.labels_list, \n",
    "                    df_val.labels_list, \n",
    "                    df_test.labels_list])\n",
    "\n",
    "# initialize MultiLabelBinarizer\n",
    "labels_lookup = MultiLabelBinarizer()\n",
    "\n",
    "# learn the vocabulary\n",
    "labels_lookup = labels_lookup.fit(labels)\n",
    "\n",
    "# show the vocabulary\n",
    "vocab = labels_lookup.classes_\n",
    "print(f'Vocabulary size: {len(vocab)}')\n",
    "print(f'Vocabulary: {vocab}')\n"
   ]
  },
  {
   "cell_type": "code",
   "execution_count": 6,
   "metadata": {},
   "outputs": [],
   "source": [
    "# update the data frame with a `labels_encoded` column\n",
    "df_train['labels_encoded'] = labels_lookup.transform(df_train.labels_list).tolist()\n",
    "df_val['labels_encoded'] = labels_lookup.transform(df_val.labels_list).tolist()\n",
    "df_test['labels_encoded'] = labels_lookup.transform(df_test.labels_list).tolist()"
   ]
  },
  {
   "cell_type": "code",
   "execution_count": 7,
   "metadata": {},
   "outputs": [],
   "source": [
    "# add the one-hot encoded labels as columns to the data frames\n",
    "df_train = df_train.join(pd.DataFrame(labels_lookup.transform(df_train.labels_list), \n",
    "                                     columns=labels_lookup.classes_, \n",
    "                                     index=df_train.index))\n",
    "\n",
    "df_val = df_val.join(pd.DataFrame(labels_lookup.transform(df_val.labels_list),\n",
    "                                    columns=labels_lookup.classes_,\n",
    "                                    index=df_val.index))\n",
    "\n",
    "df_test = df_test.join(pd.DataFrame(labels_lookup.transform(df_test.labels_list),\n",
    "                                    columns=labels_lookup.classes_,\n",
    "                                    index=df_test.index))"
   ]
  },
  {
   "cell_type": "markdown",
   "metadata": {},
   "source": [
    "## 3. Model Training"
   ]
  },
  {
   "cell_type": "code",
   "execution_count": 8,
   "metadata": {},
   "outputs": [],
   "source": [
    "random_seed = 42"
   ]
  },
  {
   "cell_type": "code",
   "execution_count": 9,
   "metadata": {},
   "outputs": [],
   "source": [
    "#model_name = 'BAAI/bge-small-en-v1.5'\n",
    "model_name = 'sentence-transformers/paraphrase-mpnet-base-v2'"
   ]
  },
  {
   "cell_type": "markdown",
   "metadata": {},
   "source": [
    "### 3.1. Create Model"
   ]
  },
  {
   "cell_type": "code",
   "execution_count": 10,
   "metadata": {},
   "outputs": [
    {
     "name": "stderr",
     "output_type": "stream",
     "text": [
      "/home/johnny/swan/miniconda3/envs/caves-data/lib/python3.10/site-packages/huggingface_hub/file_download.py:1132: FutureWarning: `resume_download` is deprecated and will be removed in version 1.0.0. Downloads always resume when possible. If you want to force a new download, use `force_download=True`.\n",
      "  warnings.warn(\n",
      "model_head.pkl not found on HuggingFace Hub, initialising classification head with random weights. You should TRAIN this model on a downstream task to use it for predictions and inference.\n"
     ]
    }
   ],
   "source": [
    "# load the model from the Hugging Face model hub\n",
    "model = SetFitModel.from_pretrained(\n",
    "    model_name,\n",
    "    multi_target_strategy=\"one-vs-rest\")\n",
    "\n",
    "# model = SetFitModel.from_pretrained(\n",
    "#     model_name,\n",
    "#     multi_target_strategy=\"one-vs-rest\",\n",
    "#     use_differentiable_head=True,\n",
    "#     head_params={\"out_features\": len(vocab)},\n",
    "# )"
   ]
  },
  {
   "cell_type": "markdown",
   "metadata": {},
   "source": [
    "### 3.2 Select Training Data"
   ]
  },
  {
   "cell_type": "code",
   "execution_count": 11,
   "metadata": {},
   "outputs": [],
   "source": [
    "num_samples = 16\n",
    "df_sample = pd.DataFrame()\n",
    "\n",
    "# select the sample rows for each category\n",
    "for label in vocab:\n",
    "    # get the sample rows for the label\n",
    "    sample_rows = df_train[df_train[label] == 1].sample(\n",
    "        n=num_samples, \n",
    "        random_state=random_seed)[['text', 'labels_encoded']]\n",
    "    \n",
    "    # append the sample rows to the data frame\n",
    "    df_sample = pd.concat([df_sample, sample_rows])"
   ]
  },
  {
   "cell_type": "code",
   "execution_count": 12,
   "metadata": {},
   "outputs": [
    {
     "data": {
      "text/plain": [
       "Dataset({\n",
       "    features: ['text', 'labels_encoded'],\n",
       "    num_rows: 192\n",
       "})"
      ]
     },
     "execution_count": 12,
     "metadata": {},
     "output_type": "execute_result"
    }
   ],
   "source": [
    "# create the training dataset\n",
    "train_dataset = Dataset.from_pandas(df_sample, preserve_index=False)\n",
    "train_dataset"
   ]
  },
  {
   "cell_type": "markdown",
   "metadata": {},
   "source": [
    "### 3.3. Create Trainer"
   ]
  },
  {
   "cell_type": "code",
   "execution_count": 13,
   "metadata": {},
   "outputs": [
    {
     "name": "stderr",
     "output_type": "stream",
     "text": [
      "Applying column mapping to the training dataset\n",
      "/home/johnny/swan/miniconda3/envs/caves-data/lib/python3.10/site-packages/torch/utils/tensorboard/__init__.py:4: DeprecationWarning: distutils Version classes are deprecated. Use packaging.version instead.\n",
      "  if not hasattr(tensorboard, \"__version__\") or LooseVersion(\n",
      "/home/johnny/swan/miniconda3/envs/caves-data/lib/python3.10/site-packages/torch/utils/tensorboard/__init__.py:6: DeprecationWarning: distutils Version classes are deprecated. Use packaging.version instead.\n",
      "  ) < LooseVersion(\"1.15\"):\n"
     ]
    },
    {
     "data": {
      "application/vnd.jupyter.widget-view+json": {
       "model_id": "01e86d82d10b40aea329fe76e124a68f",
       "version_major": 2,
       "version_minor": 0
      },
      "text/plain": [
       "Map:   0%|          | 0/192 [00:00<?, ? examples/s]"
      ]
     },
     "metadata": {},
     "output_type": "display_data"
    }
   ],
   "source": [
    "# create the trainer\n",
    "trainer = Trainer(\n",
    "    model=model,\n",
    "    train_dataset=train_dataset,\n",
    "    metric=\"accuracy\",\n",
    "    column_mapping={\n",
    "        'text' : 'text',\n",
    "        'labels_encoded' : 'label'\n",
    "    },\n",
    "    args=TrainingArguments(\n",
    "        num_epochs=2)\n",
    ")"
   ]
  },
  {
   "cell_type": "markdown",
   "metadata": {},
   "source": [
    "### 3.4. Train the model"
   ]
  },
  {
   "cell_type": "code",
   "execution_count": 14,
   "metadata": {},
   "outputs": [
    {
     "name": "stderr",
     "output_type": "stream",
     "text": [
      "***** Running training *****\n",
      "  Num unique pairs = 30244\n",
      "  Batch size = 16\n",
      "  Num epochs = 2\n",
      "  Total optimization steps = 3782\n"
     ]
    },
    {
     "data": {
      "text/html": [
       "\n",
       "    <div>\n",
       "      \n",
       "      <progress value='3335' max='3782' style='width:300px; height:20px; vertical-align: middle;'></progress>\n",
       "      [3335/3782 05:54 < 00:47, 9.40 it/s, Epoch 1.76/0]\n",
       "    </div>\n",
       "    <table border=\"1\" class=\"dataframe\">\n",
       "  <thead>\n",
       " <tr style=\"text-align: left;\">\n",
       "      <th>Step</th>\n",
       "      <th>Training Loss</th>\n",
       "    </tr>\n",
       "  </thead>\n",
       "  <tbody>\n",
       "  </tbody>\n",
       "</table><p>"
      ],
      "text/plain": [
       "<IPython.core.display.HTML object>"
      ]
     },
     "metadata": {},
     "output_type": "display_data"
    }
   ],
   "source": [
    "trainer.train()"
   ]
  },
  {
   "cell_type": "markdown",
   "metadata": {},
   "source": [
    "## 4. Make Predictions"
   ]
  },
  {
   "cell_type": "code",
   "execution_count": null,
   "metadata": {},
   "outputs": [],
   "source": [
    "data = df_test"
   ]
  },
  {
   "cell_type": "code",
   "execution_count": null,
   "metadata": {},
   "outputs": [],
   "source": [
    "def get_predictions(texts, model, labels):\n",
    "    probas = model.predict_proba(texts, as_numpy=True)\n",
    "    return probas.tolist()\n",
    "    # for pred in probas:\n",
    "    #     yield [{\"label\": label, \"score\": score} for label, score in zip(labels, pred)]"
   ]
  },
  {
   "cell_type": "code",
   "execution_count": null,
   "metadata": {},
   "outputs": [],
   "source": [
    "y_true = data.labels_encoded.tolist()\n",
    "y_pred = list(get_predictions(data.text.values, model, vocab.tolist()))\n",
    "#y_pred[:5]"
   ]
  },
  {
   "cell_type": "markdown",
   "metadata": {},
   "source": [
    "## 5. Evaluation Metrics"
   ]
  },
  {
   "cell_type": "code",
   "execution_count": null,
   "metadata": {},
   "outputs": [],
   "source": [
    "def calculate_metric(metric_func, y_true:List[List[int]], y_pred_proba:List[List[float]], threshold:float, **kwargs):\n",
    "    # Convert predictions to binary\n",
    "    y_pred = [[int(prob > threshold) for prob in pred] for pred in y_pred_proba]\n",
    "\n",
    "    # return the subset accuracy\n",
    "    return metric_func(y_true, y_pred, **kwargs)\n",
    "\n",
    "def f1_score_macro(y_true:List[List[int]], y_pred_proba:List[List[float]], threshold:float=0.5):\n",
    "    \"\"\"Calculate F1 Score (Macro).\"\"\"\n",
    "    return calculate_metric(f1_score, y_true, y_pred_proba, threshold, average='macro')\n",
    "\n",
    "def f1_score_weighted(y_true:List[List[int]], y_pred_proba:List[List[float]], threshold:float=0.5):\n",
    "    \"\"\"Calculate F1-score (Weighted-Average).\"\"\"\n",
    "    return calculate_metric(f1_score, y_true, y_pred_proba, threshold, average='weighted')\n",
    "\n",
    "def jaccard_similarity(y_true:List[List[int]], y_pred_proba:List[List[float]], threshold:float=0.5):\n",
    "    \"\"\"Calculate average Jaccard Similarity.\"\"\"\n",
    "    return calculate_metric(jaccard_score, y_true, y_pred_proba, threshold, average='samples')\n",
    "\n",
    "def subset_accuracy(y_true:List[List[int]], y_pred_proba:List[List[float]], threshold:float=0.5):\n",
    "    \"\"\"Calculate Subset Accuracy (Exact Match Accuracy).\"\"\"\n",
    "    return calculate_metric(accuracy_score, y_true, y_pred_proba, threshold)"
   ]
  },
  {
   "cell_type": "code",
   "execution_count": null,
   "metadata": {},
   "outputs": [],
   "source": [
    "def evaluate_all(y_true,\n",
    "                 y_pred_proba,\n",
    "                 threshold:float=0.5):\n",
    "\n",
    "    \"\"\"Evaluate all metrics and display a summary.\"\"\"\n",
    "    f1_macro_score = f1_score_macro(y_true, y_pred_proba, threshold)\n",
    "    f1_weighted_score = f1_score_weighted(y_true, y_pred_proba,threshold)\n",
    "    jaccard_similarity_score = jaccard_similarity(y_true, y_pred_proba, threshold)\n",
    "    subset_accuracy_score = subset_accuracy(y_true, y_pred_proba, threshold)\n",
    "\n",
    "    # Display a summary of the evaluation\n",
    "    print(f\"F1 Score (Macro-Average)   \\t{f1_macro_score:.3f}\")\n",
    "    print(f\"F1 Score (Weighted-Average)\\t{f1_weighted_score:.3f}\")\n",
    "    print(f\"Average Jaccard Similarity \\t{jaccard_similarity_score:.3f}\")\n",
    "    print(f\"Subset Accuracy            \\t{subset_accuracy_score:.3f}\")"
   ]
  },
  {
   "cell_type": "markdown",
   "metadata": {},
   "source": [
    "## 6. Optimize Threshold"
   ]
  },
  {
   "cell_type": "code",
   "execution_count": null,
   "metadata": {},
   "outputs": [],
   "source": [
    "def optimize_score(metric_func, y_true:List[List[int]], y_pred_proba:List[List[float]]):\n",
    "    \"\"\"Optimize the threshold for a given metric.\"\"\"\n",
    "    scores = []\n",
    "    \n",
    "    # get the scores for different thresholds\n",
    "    for threshold in np.arange(0.0, 1.0, 0.01):\n",
    "        score = metric_func(y_true, y_pred, threshold)\n",
    "        scores.append({\n",
    "            'threshold': threshold,\n",
    "            'score': score\n",
    "        })\n",
    "        \n",
    "    # convert to DataFrame\n",
    "    df_scores = pd.DataFrame(scores)\n",
    "    \n",
    "    # find the threshold with the highest F1 score\n",
    "    best_threshold = df_scores.loc[df_scores['score'].idxmax()]['threshold']\n",
    "    best_score = df_scores['score'].max()\n",
    "    print(f\"Best Threshold: {best_threshold:.2f}\")\n",
    "    print(f\"Best Score: {best_score:.3f}\")\n",
    "    \n",
    "    # plot the F1 scores\n",
    "    plt.plot(df_scores['threshold'], df_scores['score'])\n",
    "    plt.xlabel('Threshold')\n",
    "    plt.ylabel('Score')\n",
    "    plt.title(f'{metric_func.__name__} vs. Threshold')\n",
    "    plt.show()\n",
    "    \n",
    "    return best_threshold "
   ]
  },
  {
   "cell_type": "markdown",
   "metadata": {},
   "source": [
    "### 6.1. F1 Score (Macro-Average)"
   ]
  },
  {
   "cell_type": "code",
   "execution_count": null,
   "metadata": {},
   "outputs": [],
   "source": [
    "optimize_score(f1_score_macro, y_true, y_pred)"
   ]
  },
  {
   "cell_type": "markdown",
   "metadata": {},
   "source": [
    "### 6.2. F1 Score (Weighted-Average)"
   ]
  },
  {
   "cell_type": "code",
   "execution_count": null,
   "metadata": {},
   "outputs": [],
   "source": [
    "optimize_score(f1_score_weighted, y_true, y_pred)"
   ]
  },
  {
   "cell_type": "markdown",
   "metadata": {},
   "source": [
    "### 6.3. Average Jaccard Similarity"
   ]
  },
  {
   "cell_type": "code",
   "execution_count": null,
   "metadata": {},
   "outputs": [],
   "source": [
    "optimize_score(jaccard_similarity, y_true, y_pred)"
   ]
  },
  {
   "cell_type": "markdown",
   "metadata": {},
   "source": [
    "### 6.4 Subset Accuracy "
   ]
  },
  {
   "cell_type": "code",
   "execution_count": null,
   "metadata": {},
   "outputs": [],
   "source": [
    "best_threshold = optimize_score(subset_accuracy, y_true, y_pred)"
   ]
  },
  {
   "cell_type": "markdown",
   "metadata": {},
   "source": [
    "### 3.5 Optimized Threshold"
   ]
  },
  {
   "cell_type": "code",
   "execution_count": null,
   "metadata": {},
   "outputs": [],
   "source": [
    "evaluate_all(y_true, y_pred, threshold=best_threshold)"
   ]
  }
 ],
 "metadata": {
  "kernelspec": {
   "display_name": "caves-data",
   "language": "python",
   "name": "python3"
  },
  "language_info": {
   "codemirror_mode": {
    "name": "ipython",
    "version": 3
   },
   "file_extension": ".py",
   "mimetype": "text/x-python",
   "name": "python",
   "nbconvert_exporter": "python",
   "pygments_lexer": "ipython3",
   "version": "3.10.14"
  }
 },
 "nbformat": 4,
 "nbformat_minor": 2
}
