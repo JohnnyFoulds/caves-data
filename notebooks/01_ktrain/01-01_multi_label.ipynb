{
 "cells": [
  {
   "cell_type": "markdown",
   "metadata": {},
   "source": [
    "# 01-01 : ktrain Multi-Label Classification\n",
    "\n",
    "## References\n",
    "\n",
    "- [Toxic Comments: Multi-Label Text Classification](https://github.com/amaiya/ktrain/blob/master/examples/text/toxic_comments-fasttext.ipynb)"
   ]
  },
  {
   "cell_type": "code",
   "execution_count": 1,
   "metadata": {},
   "outputs": [],
   "source": [
    "import os\n",
    "os.environ[\"TF_USE_LEGACY_KERAS\"] = \"1\""
   ]
  },
  {
   "cell_type": "code",
   "execution_count": 14,
   "metadata": {},
   "outputs": [],
   "source": [
    "import pandas as pd\n",
    "import ktrain\n",
    "import tensorflow as tf\n",
    "from tensorflow import keras"
   ]
  },
  {
   "cell_type": "code",
   "execution_count": 3,
   "metadata": {},
   "outputs": [],
   "source": [
    "data_path = '../../data'\n",
    "input_path = f'{data_path}/input/labelled_tweets/csv_labels'\n",
    "train_input_file = f'{input_path}/train.csv'\n",
    "test_input_file = f'{input_path}/test.csv'\n",
    "val_input_file = f'{input_path}/val.csv'"
   ]
  },
  {
   "cell_type": "markdown",
   "metadata": {},
   "source": [
    "## 1. Load Data"
   ]
  },
  {
   "cell_type": "code",
   "execution_count": 4,
   "metadata": {},
   "outputs": [
    {
     "name": "stdout",
     "output_type": "stream",
     "text": [
      "Train shape: (6957, 3)\n",
      "Val shape: (987, 3)\n",
      "Test shape: (1977, 3)\n"
     ]
    }
   ],
   "source": [
    "df_train = pd.read_csv(train_input_file)\n",
    "df_val = pd.read_csv(val_input_file)\n",
    "df_test = pd.read_csv(test_input_file)\n",
    "\n",
    "# show the data frame shapes\n",
    "print(f'Train shape: {df_train.shape}')\n",
    "print(f'Val shape: {df_val.shape}')\n",
    "print(f'Test shape: {df_test.shape}')"
   ]
  },
  {
   "cell_type": "code",
   "execution_count": 5,
   "metadata": {},
   "outputs": [
    {
     "data": {
      "text/html": [
       "<div>\n",
       "<style scoped>\n",
       "    .dataframe tbody tr th:only-of-type {\n",
       "        vertical-align: middle;\n",
       "    }\n",
       "\n",
       "    .dataframe tbody tr th {\n",
       "        vertical-align: top;\n",
       "    }\n",
       "\n",
       "    .dataframe thead th {\n",
       "        text-align: right;\n",
       "    }\n",
       "</style>\n",
       "<table border=\"1\" class=\"dataframe\">\n",
       "  <thead>\n",
       "    <tr style=\"text-align: right;\">\n",
       "      <th></th>\n",
       "      <th>ID</th>\n",
       "      <th>text</th>\n",
       "      <th>labels</th>\n",
       "    </tr>\n",
       "  </thead>\n",
       "  <tbody>\n",
       "    <tr>\n",
       "      <th>0</th>\n",
       "      <td>1311981051720409089t</td>\n",
       "      <td>@sandraburgess3 They have no idea , they cant ...</td>\n",
       "      <td>ineffective</td>\n",
       "    </tr>\n",
       "    <tr>\n",
       "      <th>1</th>\n",
       "      <td>1361403925845401601t</td>\n",
       "      <td>@stepheniscowboy Nvm I ’ ve had covid I ’ ve g...</td>\n",
       "      <td>unnecessary</td>\n",
       "    </tr>\n",
       "    <tr>\n",
       "      <th>2</th>\n",
       "      <td>1293488278361055233t</td>\n",
       "      <td>Coronavirus updates : Government partners with...</td>\n",
       "      <td>pharma</td>\n",
       "    </tr>\n",
       "    <tr>\n",
       "      <th>3</th>\n",
       "      <td>1305252218526990338t</td>\n",
       "      <td>@OANN U . K . Glaxo Smith Klein whistleblower ...</td>\n",
       "      <td>rushed</td>\n",
       "    </tr>\n",
       "    <tr>\n",
       "      <th>4</th>\n",
       "      <td>1376135683400687618t</td>\n",
       "      <td>3 / horse \" AstraZeneca , not so much for the ...</td>\n",
       "      <td>ineffective pharma</td>\n",
       "    </tr>\n",
       "  </tbody>\n",
       "</table>\n",
       "</div>"
      ],
      "text/plain": [
       "                     ID                                               text  \\\n",
       "0  1311981051720409089t  @sandraburgess3 They have no idea , they cant ...   \n",
       "1  1361403925845401601t  @stepheniscowboy Nvm I ’ ve had covid I ’ ve g...   \n",
       "2  1293488278361055233t  Coronavirus updates : Government partners with...   \n",
       "3  1305252218526990338t  @OANN U . K . Glaxo Smith Klein whistleblower ...   \n",
       "4  1376135683400687618t  3 / horse \" AstraZeneca , not so much for the ...   \n",
       "\n",
       "               labels  \n",
       "0         ineffective  \n",
       "1         unnecessary  \n",
       "2              pharma  \n",
       "3              rushed  \n",
       "4  ineffective pharma  "
      ]
     },
     "execution_count": 5,
     "metadata": {},
     "output_type": "execute_result"
    }
   ],
   "source": [
    "df_train.head()"
   ]
  },
  {
   "cell_type": "markdown",
   "metadata": {},
   "source": [
    "## 2. Preprocessing"
   ]
  },
  {
   "cell_type": "markdown",
   "metadata": {},
   "source": [
    "### 2.1. Labels to List"
   ]
  },
  {
   "cell_type": "code",
   "execution_count": 6,
   "metadata": {},
   "outputs": [],
   "source": [
    "df_train['labels_list'] = df_train['labels'].str.split(' ')\n",
    "df_test['labels_list'] = df_test['labels'].str.split(' ')\n",
    "df_val['labels_list'] = df_val['labels'].str.split(' ')"
   ]
  },
  {
   "cell_type": "code",
   "execution_count": 7,
   "metadata": {},
   "outputs": [
    {
     "data": {
      "text/html": [
       "<div>\n",
       "<style scoped>\n",
       "    .dataframe tbody tr th:only-of-type {\n",
       "        vertical-align: middle;\n",
       "    }\n",
       "\n",
       "    .dataframe tbody tr th {\n",
       "        vertical-align: top;\n",
       "    }\n",
       "\n",
       "    .dataframe thead th {\n",
       "        text-align: right;\n",
       "    }\n",
       "</style>\n",
       "<table border=\"1\" class=\"dataframe\">\n",
       "  <thead>\n",
       "    <tr style=\"text-align: right;\">\n",
       "      <th></th>\n",
       "      <th>ID</th>\n",
       "      <th>text</th>\n",
       "      <th>labels</th>\n",
       "      <th>labels_list</th>\n",
       "    </tr>\n",
       "  </thead>\n",
       "  <tbody>\n",
       "    <tr>\n",
       "      <th>0</th>\n",
       "      <td>1311981051720409089t</td>\n",
       "      <td>@sandraburgess3 They have no idea , they cant ...</td>\n",
       "      <td>ineffective</td>\n",
       "      <td>[ineffective]</td>\n",
       "    </tr>\n",
       "    <tr>\n",
       "      <th>1</th>\n",
       "      <td>1361403925845401601t</td>\n",
       "      <td>@stepheniscowboy Nvm I ’ ve had covid I ’ ve g...</td>\n",
       "      <td>unnecessary</td>\n",
       "      <td>[unnecessary]</td>\n",
       "    </tr>\n",
       "    <tr>\n",
       "      <th>2</th>\n",
       "      <td>1293488278361055233t</td>\n",
       "      <td>Coronavirus updates : Government partners with...</td>\n",
       "      <td>pharma</td>\n",
       "      <td>[pharma]</td>\n",
       "    </tr>\n",
       "    <tr>\n",
       "      <th>3</th>\n",
       "      <td>1305252218526990338t</td>\n",
       "      <td>@OANN U . K . Glaxo Smith Klein whistleblower ...</td>\n",
       "      <td>rushed</td>\n",
       "      <td>[rushed]</td>\n",
       "    </tr>\n",
       "    <tr>\n",
       "      <th>4</th>\n",
       "      <td>1376135683400687618t</td>\n",
       "      <td>3 / horse \" AstraZeneca , not so much for the ...</td>\n",
       "      <td>ineffective pharma</td>\n",
       "      <td>[ineffective, pharma]</td>\n",
       "    </tr>\n",
       "  </tbody>\n",
       "</table>\n",
       "</div>"
      ],
      "text/plain": [
       "                     ID                                               text  \\\n",
       "0  1311981051720409089t  @sandraburgess3 They have no idea , they cant ...   \n",
       "1  1361403925845401601t  @stepheniscowboy Nvm I ’ ve had covid I ’ ve g...   \n",
       "2  1293488278361055233t  Coronavirus updates : Government partners with...   \n",
       "3  1305252218526990338t  @OANN U . K . Glaxo Smith Klein whistleblower ...   \n",
       "4  1376135683400687618t  3 / horse \" AstraZeneca , not so much for the ...   \n",
       "\n",
       "               labels            labels_list  \n",
       "0         ineffective          [ineffective]  \n",
       "1         unnecessary          [unnecessary]  \n",
       "2              pharma               [pharma]  \n",
       "3              rushed               [rushed]  \n",
       "4  ineffective pharma  [ineffective, pharma]  "
      ]
     },
     "execution_count": 7,
     "metadata": {},
     "output_type": "execute_result"
    }
   ],
   "source": [
    "df_train.head()"
   ]
  },
  {
   "cell_type": "markdown",
   "metadata": {},
   "source": [
    "### 2.1. Multi-label Binarization"
   ]
  },
  {
   "cell_type": "code",
   "execution_count": 16,
   "metadata": {},
   "outputs": [
    {
     "name": "stdout",
     "output_type": "stream",
     "text": [
      "Vocabulary:\n",
      "\n",
      "['[UNK]', 'side-effect', 'ineffective', 'rushed', 'pharma', 'mandatory', 'unnecessary', 'none', 'political', 'conspiracy', 'ingredients', 'country', 'religious']\n",
      "Vocabulary size: 13\n"
     ]
    }
   ],
   "source": [
    "# get the list of label values\n",
    "labels = tf.ragged.constant(\n",
    "    pd.concat([df_train.labels_list, df_val.labels_list, df_test.labels_list]) \\\n",
    "        .values\n",
    ")\n",
    "\n",
    "# learn the vocabulary\n",
    "labels_lookup = keras.layers.StringLookup(output_mode=\"multi_hot\")\n",
    "labels_lookup.adapt(labels)\n",
    "\n",
    "# show the vocabulary\n",
    "vocab = labels_lookup.get_vocabulary()\n",
    "print(\"Vocabulary:\\n\")\n",
    "print(labels_lookup.get_vocabulary())\n",
    "print(f'Vocabulary size: {len(vocab)}')"
   ]
  },
  {
   "cell_type": "code",
   "execution_count": 23,
   "metadata": {},
   "outputs": [
    {
     "data": {
      "text/html": [
       "<div>\n",
       "<style scoped>\n",
       "    .dataframe tbody tr th:only-of-type {\n",
       "        vertical-align: middle;\n",
       "    }\n",
       "\n",
       "    .dataframe tbody tr th {\n",
       "        vertical-align: top;\n",
       "    }\n",
       "\n",
       "    .dataframe thead th {\n",
       "        text-align: right;\n",
       "    }\n",
       "</style>\n",
       "<table border=\"1\" class=\"dataframe\">\n",
       "  <thead>\n",
       "    <tr style=\"text-align: right;\">\n",
       "      <th></th>\n",
       "      <th>ID</th>\n",
       "      <th>text</th>\n",
       "      <th>labels</th>\n",
       "      <th>labels_list</th>\n",
       "      <th>labels_encoded</th>\n",
       "    </tr>\n",
       "  </thead>\n",
       "  <tbody>\n",
       "    <tr>\n",
       "      <th>0</th>\n",
       "      <td>1311981051720409089t</td>\n",
       "      <td>@sandraburgess3 They have no idea , they cant ...</td>\n",
       "      <td>ineffective</td>\n",
       "      <td>[ineffective]</td>\n",
       "      <td>[0.0, 0.0, 1.0, 0.0, 0.0, 0.0, 0.0, 0.0, 0.0, ...</td>\n",
       "    </tr>\n",
       "    <tr>\n",
       "      <th>1</th>\n",
       "      <td>1361403925845401601t</td>\n",
       "      <td>@stepheniscowboy Nvm I ’ ve had covid I ’ ve g...</td>\n",
       "      <td>unnecessary</td>\n",
       "      <td>[unnecessary]</td>\n",
       "      <td>[0.0, 0.0, 0.0, 0.0, 0.0, 0.0, 1.0, 0.0, 0.0, ...</td>\n",
       "    </tr>\n",
       "    <tr>\n",
       "      <th>2</th>\n",
       "      <td>1293488278361055233t</td>\n",
       "      <td>Coronavirus updates : Government partners with...</td>\n",
       "      <td>pharma</td>\n",
       "      <td>[pharma]</td>\n",
       "      <td>[0.0, 0.0, 0.0, 0.0, 1.0, 0.0, 0.0, 0.0, 0.0, ...</td>\n",
       "    </tr>\n",
       "    <tr>\n",
       "      <th>3</th>\n",
       "      <td>1305252218526990338t</td>\n",
       "      <td>@OANN U . K . Glaxo Smith Klein whistleblower ...</td>\n",
       "      <td>rushed</td>\n",
       "      <td>[rushed]</td>\n",
       "      <td>[0.0, 0.0, 0.0, 1.0, 0.0, 0.0, 0.0, 0.0, 0.0, ...</td>\n",
       "    </tr>\n",
       "    <tr>\n",
       "      <th>4</th>\n",
       "      <td>1376135683400687618t</td>\n",
       "      <td>3 / horse \" AstraZeneca , not so much for the ...</td>\n",
       "      <td>ineffective pharma</td>\n",
       "      <td>[ineffective, pharma]</td>\n",
       "      <td>[0.0, 0.0, 1.0, 0.0, 1.0, 0.0, 0.0, 0.0, 0.0, ...</td>\n",
       "    </tr>\n",
       "    <tr>\n",
       "      <th>...</th>\n",
       "      <td>...</td>\n",
       "      <td>...</td>\n",
       "      <td>...</td>\n",
       "      <td>...</td>\n",
       "      <td>...</td>\n",
       "    </tr>\n",
       "    <tr>\n",
       "      <th>6952</th>\n",
       "      <td>1370403012842250241t</td>\n",
       "      <td>I don ’ t get the flu shot . Haven ’ t gotten ...</td>\n",
       "      <td>none</td>\n",
       "      <td>[none]</td>\n",
       "      <td>[0.0, 0.0, 0.0, 0.0, 0.0, 0.0, 0.0, 1.0, 0.0, ...</td>\n",
       "    </tr>\n",
       "    <tr>\n",
       "      <th>6953</th>\n",
       "      <td>1337580201560125442t</td>\n",
       "      <td>Why are they rushing this vaccine out ? COVID ...</td>\n",
       "      <td>rushed side-effect</td>\n",
       "      <td>[rushed, side-effect]</td>\n",
       "      <td>[0.0, 1.0, 0.0, 1.0, 0.0, 0.0, 0.0, 0.0, 0.0, ...</td>\n",
       "    </tr>\n",
       "    <tr>\n",
       "      <th>6954</th>\n",
       "      <td>1351838450706763777t</td>\n",
       "      <td>@SJJB55 ' Cases ' data is propaganda . Where /...</td>\n",
       "      <td>none</td>\n",
       "      <td>[none]</td>\n",
       "      <td>[0.0, 0.0, 0.0, 0.0, 0.0, 0.0, 0.0, 1.0, 0.0, ...</td>\n",
       "    </tr>\n",
       "    <tr>\n",
       "      <th>6955</th>\n",
       "      <td>1333970612897808385t</td>\n",
       "      <td>@holly_go_litely @jmask @JustinTrudeau Moderna...</td>\n",
       "      <td>pharma</td>\n",
       "      <td>[pharma]</td>\n",
       "      <td>[0.0, 0.0, 0.0, 0.0, 1.0, 0.0, 0.0, 0.0, 0.0, ...</td>\n",
       "    </tr>\n",
       "    <tr>\n",
       "      <th>6956</th>\n",
       "      <td>1342131267446263808t</td>\n",
       "      <td>@breckyunits @social_brains @jayvanbavel @mode...</td>\n",
       "      <td>rushed</td>\n",
       "      <td>[rushed]</td>\n",
       "      <td>[0.0, 0.0, 0.0, 1.0, 0.0, 0.0, 0.0, 0.0, 0.0, ...</td>\n",
       "    </tr>\n",
       "  </tbody>\n",
       "</table>\n",
       "<p>6957 rows × 5 columns</p>\n",
       "</div>"
      ],
      "text/plain": [
       "                        ID                                               text  \\\n",
       "0     1311981051720409089t  @sandraburgess3 They have no idea , they cant ...   \n",
       "1     1361403925845401601t  @stepheniscowboy Nvm I ’ ve had covid I ’ ve g...   \n",
       "2     1293488278361055233t  Coronavirus updates : Government partners with...   \n",
       "3     1305252218526990338t  @OANN U . K . Glaxo Smith Klein whistleblower ...   \n",
       "4     1376135683400687618t  3 / horse \" AstraZeneca , not so much for the ...   \n",
       "...                    ...                                                ...   \n",
       "6952  1370403012842250241t  I don ’ t get the flu shot . Haven ’ t gotten ...   \n",
       "6953  1337580201560125442t  Why are they rushing this vaccine out ? COVID ...   \n",
       "6954  1351838450706763777t  @SJJB55 ' Cases ' data is propaganda . Where /...   \n",
       "6955  1333970612897808385t  @holly_go_litely @jmask @JustinTrudeau Moderna...   \n",
       "6956  1342131267446263808t  @breckyunits @social_brains @jayvanbavel @mode...   \n",
       "\n",
       "                  labels            labels_list  \\\n",
       "0            ineffective          [ineffective]   \n",
       "1            unnecessary          [unnecessary]   \n",
       "2                 pharma               [pharma]   \n",
       "3                 rushed               [rushed]   \n",
       "4     ineffective pharma  [ineffective, pharma]   \n",
       "...                  ...                    ...   \n",
       "6952                none                 [none]   \n",
       "6953  rushed side-effect  [rushed, side-effect]   \n",
       "6954                none                 [none]   \n",
       "6955              pharma               [pharma]   \n",
       "6956              rushed               [rushed]   \n",
       "\n",
       "                                         labels_encoded  \n",
       "0     [0.0, 0.0, 1.0, 0.0, 0.0, 0.0, 0.0, 0.0, 0.0, ...  \n",
       "1     [0.0, 0.0, 0.0, 0.0, 0.0, 0.0, 1.0, 0.0, 0.0, ...  \n",
       "2     [0.0, 0.0, 0.0, 0.0, 1.0, 0.0, 0.0, 0.0, 0.0, ...  \n",
       "3     [0.0, 0.0, 0.0, 1.0, 0.0, 0.0, 0.0, 0.0, 0.0, ...  \n",
       "4     [0.0, 0.0, 1.0, 0.0, 1.0, 0.0, 0.0, 0.0, 0.0, ...  \n",
       "...                                                 ...  \n",
       "6952  [0.0, 0.0, 0.0, 0.0, 0.0, 0.0, 0.0, 1.0, 0.0, ...  \n",
       "6953  [0.0, 1.0, 0.0, 1.0, 0.0, 0.0, 0.0, 0.0, 0.0, ...  \n",
       "6954  [0.0, 0.0, 0.0, 0.0, 0.0, 0.0, 0.0, 1.0, 0.0, ...  \n",
       "6955  [0.0, 0.0, 0.0, 0.0, 1.0, 0.0, 0.0, 0.0, 0.0, ...  \n",
       "6956  [0.0, 0.0, 0.0, 1.0, 0.0, 0.0, 0.0, 0.0, 0.0, ...  \n",
       "\n",
       "[6957 rows x 5 columns]"
      ]
     },
     "execution_count": 23,
     "metadata": {},
     "output_type": "execute_result"
    }
   ],
   "source": [
    "# apply the label_lookup to the data sets\n",
    "df_train['labels_encoded'] = labels_lookup(tf.ragged.constant(df_train['labels_list'].values)).numpy().tolist()\n",
    "\n",
    "df_train"
   ]
  }
 ],
 "metadata": {
  "kernelspec": {
   "display_name": "caves-data",
   "language": "python",
   "name": "python3"
  },
  "language_info": {
   "codemirror_mode": {
    "name": "ipython",
    "version": 3
   },
   "file_extension": ".py",
   "mimetype": "text/x-python",
   "name": "python",
   "nbconvert_exporter": "python",
   "pygments_lexer": "ipython3",
   "version": "3.10.14"
  }
 },
 "nbformat": 4,
 "nbformat_minor": 2
}
