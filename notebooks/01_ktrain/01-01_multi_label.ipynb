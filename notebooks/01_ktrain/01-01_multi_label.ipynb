{
 "cells": [
  {
   "cell_type": "markdown",
   "metadata": {},
   "source": [
    "# 01-01 : ktrain Multi-Label Classification\n",
    "\n",
    "## References\n",
    "\n",
    "- [Toxic Comments: Multi-Label Text Classification](https://github.com/amaiya/ktrain/blob/master/examples/text/toxic_comments-fasttext.ipynb)"
   ]
  },
  {
   "cell_type": "code",
   "execution_count": 1,
   "metadata": {},
   "outputs": [],
   "source": [
    "import os\n",
    "os.environ[\"TF_USE_LEGACY_KERAS\"] = \"1\""
   ]
  },
  {
   "cell_type": "code",
   "execution_count": 29,
   "metadata": {},
   "outputs": [],
   "source": [
    "import pandas as pd\n",
    "import numpy as np\n",
    "import ktrain\n",
    "from ktrain import text\n",
    "from sklearn.preprocessing import MultiLabelBinarizer\n",
    "from sklearn.metrics import classification_report"
   ]
  },
  {
   "cell_type": "code",
   "execution_count": 3,
   "metadata": {},
   "outputs": [],
   "source": [
    "data_path = '../../data'\n",
    "input_path = f'{data_path}/input/labelled_tweets/csv_labels'\n",
    "train_input_file = f'{input_path}/train.csv'\n",
    "test_input_file = f'{input_path}/test.csv'\n",
    "val_input_file = f'{input_path}/val.csv'"
   ]
  },
  {
   "cell_type": "markdown",
   "metadata": {},
   "source": [
    "## 1. Load Data"
   ]
  },
  {
   "cell_type": "code",
   "execution_count": 4,
   "metadata": {},
   "outputs": [
    {
     "name": "stdout",
     "output_type": "stream",
     "text": [
      "Train shape: (6957, 3)\n",
      "Val shape: (987, 3)\n",
      "Test shape: (1977, 3)\n"
     ]
    }
   ],
   "source": [
    "df_train = pd.read_csv(train_input_file)\n",
    "df_val = pd.read_csv(val_input_file)\n",
    "df_test = pd.read_csv(test_input_file)\n",
    "\n",
    "# show the data frame shapes\n",
    "print(f'Train shape: {df_train.shape}')\n",
    "print(f'Val shape: {df_val.shape}')\n",
    "print(f'Test shape: {df_test.shape}')"
   ]
  },
  {
   "cell_type": "code",
   "execution_count": 5,
   "metadata": {},
   "outputs": [
    {
     "data": {
      "text/html": [
       "<div>\n",
       "<style scoped>\n",
       "    .dataframe tbody tr th:only-of-type {\n",
       "        vertical-align: middle;\n",
       "    }\n",
       "\n",
       "    .dataframe tbody tr th {\n",
       "        vertical-align: top;\n",
       "    }\n",
       "\n",
       "    .dataframe thead th {\n",
       "        text-align: right;\n",
       "    }\n",
       "</style>\n",
       "<table border=\"1\" class=\"dataframe\">\n",
       "  <thead>\n",
       "    <tr style=\"text-align: right;\">\n",
       "      <th></th>\n",
       "      <th>ID</th>\n",
       "      <th>text</th>\n",
       "      <th>labels</th>\n",
       "    </tr>\n",
       "  </thead>\n",
       "  <tbody>\n",
       "    <tr>\n",
       "      <th>0</th>\n",
       "      <td>1311981051720409089t</td>\n",
       "      <td>@sandraburgess3 They have no idea , they cant ...</td>\n",
       "      <td>ineffective</td>\n",
       "    </tr>\n",
       "    <tr>\n",
       "      <th>1</th>\n",
       "      <td>1361403925845401601t</td>\n",
       "      <td>@stepheniscowboy Nvm I ’ ve had covid I ’ ve g...</td>\n",
       "      <td>unnecessary</td>\n",
       "    </tr>\n",
       "    <tr>\n",
       "      <th>2</th>\n",
       "      <td>1293488278361055233t</td>\n",
       "      <td>Coronavirus updates : Government partners with...</td>\n",
       "      <td>pharma</td>\n",
       "    </tr>\n",
       "    <tr>\n",
       "      <th>3</th>\n",
       "      <td>1305252218526990338t</td>\n",
       "      <td>@OANN U . K . Glaxo Smith Klein whistleblower ...</td>\n",
       "      <td>rushed</td>\n",
       "    </tr>\n",
       "    <tr>\n",
       "      <th>4</th>\n",
       "      <td>1376135683400687618t</td>\n",
       "      <td>3 / horse \" AstraZeneca , not so much for the ...</td>\n",
       "      <td>ineffective pharma</td>\n",
       "    </tr>\n",
       "  </tbody>\n",
       "</table>\n",
       "</div>"
      ],
      "text/plain": [
       "                     ID                                               text  \\\n",
       "0  1311981051720409089t  @sandraburgess3 They have no idea , they cant ...   \n",
       "1  1361403925845401601t  @stepheniscowboy Nvm I ’ ve had covid I ’ ve g...   \n",
       "2  1293488278361055233t  Coronavirus updates : Government partners with...   \n",
       "3  1305252218526990338t  @OANN U . K . Glaxo Smith Klein whistleblower ...   \n",
       "4  1376135683400687618t  3 / horse \" AstraZeneca , not so much for the ...   \n",
       "\n",
       "               labels  \n",
       "0         ineffective  \n",
       "1         unnecessary  \n",
       "2              pharma  \n",
       "3              rushed  \n",
       "4  ineffective pharma  "
      ]
     },
     "execution_count": 5,
     "metadata": {},
     "output_type": "execute_result"
    }
   ],
   "source": [
    "df_train.head()"
   ]
  },
  {
   "cell_type": "markdown",
   "metadata": {},
   "source": [
    "## 2. Preprocessing"
   ]
  },
  {
   "cell_type": "markdown",
   "metadata": {},
   "source": [
    "### 2.1. Labels to List"
   ]
  },
  {
   "cell_type": "code",
   "execution_count": 6,
   "metadata": {},
   "outputs": [],
   "source": [
    "df_train['labels_list'] = df_train['labels'].str.split(' ')\n",
    "df_test['labels_list'] = df_test['labels'].str.split(' ')\n",
    "df_val['labels_list'] = df_val['labels'].str.split(' ')"
   ]
  },
  {
   "cell_type": "code",
   "execution_count": 7,
   "metadata": {},
   "outputs": [
    {
     "data": {
      "text/html": [
       "<div>\n",
       "<style scoped>\n",
       "    .dataframe tbody tr th:only-of-type {\n",
       "        vertical-align: middle;\n",
       "    }\n",
       "\n",
       "    .dataframe tbody tr th {\n",
       "        vertical-align: top;\n",
       "    }\n",
       "\n",
       "    .dataframe thead th {\n",
       "        text-align: right;\n",
       "    }\n",
       "</style>\n",
       "<table border=\"1\" class=\"dataframe\">\n",
       "  <thead>\n",
       "    <tr style=\"text-align: right;\">\n",
       "      <th></th>\n",
       "      <th>ID</th>\n",
       "      <th>text</th>\n",
       "      <th>labels</th>\n",
       "      <th>labels_list</th>\n",
       "    </tr>\n",
       "  </thead>\n",
       "  <tbody>\n",
       "    <tr>\n",
       "      <th>0</th>\n",
       "      <td>1311981051720409089t</td>\n",
       "      <td>@sandraburgess3 They have no idea , they cant ...</td>\n",
       "      <td>ineffective</td>\n",
       "      <td>[ineffective]</td>\n",
       "    </tr>\n",
       "    <tr>\n",
       "      <th>1</th>\n",
       "      <td>1361403925845401601t</td>\n",
       "      <td>@stepheniscowboy Nvm I ’ ve had covid I ’ ve g...</td>\n",
       "      <td>unnecessary</td>\n",
       "      <td>[unnecessary]</td>\n",
       "    </tr>\n",
       "    <tr>\n",
       "      <th>2</th>\n",
       "      <td>1293488278361055233t</td>\n",
       "      <td>Coronavirus updates : Government partners with...</td>\n",
       "      <td>pharma</td>\n",
       "      <td>[pharma]</td>\n",
       "    </tr>\n",
       "    <tr>\n",
       "      <th>3</th>\n",
       "      <td>1305252218526990338t</td>\n",
       "      <td>@OANN U . K . Glaxo Smith Klein whistleblower ...</td>\n",
       "      <td>rushed</td>\n",
       "      <td>[rushed]</td>\n",
       "    </tr>\n",
       "    <tr>\n",
       "      <th>4</th>\n",
       "      <td>1376135683400687618t</td>\n",
       "      <td>3 / horse \" AstraZeneca , not so much for the ...</td>\n",
       "      <td>ineffective pharma</td>\n",
       "      <td>[ineffective, pharma]</td>\n",
       "    </tr>\n",
       "  </tbody>\n",
       "</table>\n",
       "</div>"
      ],
      "text/plain": [
       "                     ID                                               text  \\\n",
       "0  1311981051720409089t  @sandraburgess3 They have no idea , they cant ...   \n",
       "1  1361403925845401601t  @stepheniscowboy Nvm I ’ ve had covid I ’ ve g...   \n",
       "2  1293488278361055233t  Coronavirus updates : Government partners with...   \n",
       "3  1305252218526990338t  @OANN U . K . Glaxo Smith Klein whistleblower ...   \n",
       "4  1376135683400687618t  3 / horse \" AstraZeneca , not so much for the ...   \n",
       "\n",
       "               labels            labels_list  \n",
       "0         ineffective          [ineffective]  \n",
       "1         unnecessary          [unnecessary]  \n",
       "2              pharma               [pharma]  \n",
       "3              rushed               [rushed]  \n",
       "4  ineffective pharma  [ineffective, pharma]  "
      ]
     },
     "execution_count": 7,
     "metadata": {},
     "output_type": "execute_result"
    }
   ],
   "source": [
    "df_train.head()"
   ]
  },
  {
   "cell_type": "markdown",
   "metadata": {},
   "source": [
    "### 2.2. Multi-label Binarization"
   ]
  },
  {
   "cell_type": "code",
   "execution_count": 8,
   "metadata": {},
   "outputs": [
    {
     "name": "stdout",
     "output_type": "stream",
     "text": [
      "Vocabulary size: 12\n",
      "Vocabulary: ['conspiracy' 'country' 'ineffective' 'ingredients' 'mandatory' 'none'\n",
      " 'pharma' 'political' 'religious' 'rushed' 'side-effect' 'unnecessary']\n"
     ]
    }
   ],
   "source": [
    "# get the list of label values\n",
    "labels = pd.concat([df_train.labels_list, \n",
    "                    df_val.labels_list, \n",
    "                    df_test.labels_list])\n",
    "\n",
    "# initialize MultiLabelBinarizer\n",
    "labels_lookup = MultiLabelBinarizer()\n",
    "\n",
    "# learn the vocabulary\n",
    "labels_lookup = labels_lookup.fit(labels)\n",
    "\n",
    "# show the vocabulary\n",
    "vocab = labels_lookup.classes_\n",
    "print(f'Vocabulary size: {len(vocab)}')\n",
    "print(f'Vocabulary: {vocab}')\n"
   ]
  },
  {
   "cell_type": "code",
   "execution_count": 9,
   "metadata": {},
   "outputs": [],
   "source": [
    "# add the one-hot encoded labels as columns to the data frames\n",
    "df_train = df_train.join(pd.DataFrame(labels_lookup.transform(df_train.labels_list), \n",
    "                                     columns=labels_lookup.classes_, \n",
    "                                     index=df_train.index))\n",
    "\n",
    "df_val = df_val.join(pd.DataFrame(labels_lookup.transform(df_val.labels_list),\n",
    "                                    columns=labels_lookup.classes_,\n",
    "                                    index=df_val.index))\n",
    "\n",
    "df_test = df_test.join(pd.DataFrame(labels_lookup.transform(df_test.labels_list),\n",
    "                                    columns=labels_lookup.classes_,\n",
    "                                    index=df_test.index))"
   ]
  },
  {
   "cell_type": "code",
   "execution_count": 10,
   "metadata": {},
   "outputs": [
    {
     "data": {
      "text/html": [
       "<div>\n",
       "<style scoped>\n",
       "    .dataframe tbody tr th:only-of-type {\n",
       "        vertical-align: middle;\n",
       "    }\n",
       "\n",
       "    .dataframe tbody tr th {\n",
       "        vertical-align: top;\n",
       "    }\n",
       "\n",
       "    .dataframe thead th {\n",
       "        text-align: right;\n",
       "    }\n",
       "</style>\n",
       "<table border=\"1\" class=\"dataframe\">\n",
       "  <thead>\n",
       "    <tr style=\"text-align: right;\">\n",
       "      <th></th>\n",
       "      <th>ID</th>\n",
       "      <th>text</th>\n",
       "      <th>labels</th>\n",
       "      <th>labels_list</th>\n",
       "      <th>conspiracy</th>\n",
       "      <th>country</th>\n",
       "      <th>ineffective</th>\n",
       "      <th>ingredients</th>\n",
       "      <th>mandatory</th>\n",
       "      <th>none</th>\n",
       "      <th>pharma</th>\n",
       "      <th>political</th>\n",
       "      <th>religious</th>\n",
       "      <th>rushed</th>\n",
       "      <th>side-effect</th>\n",
       "      <th>unnecessary</th>\n",
       "    </tr>\n",
       "  </thead>\n",
       "  <tbody>\n",
       "    <tr>\n",
       "      <th>0</th>\n",
       "      <td>1329097028845105155t</td>\n",
       "      <td>@nbc4i Please everyone research Pfizer ’ s his...</td>\n",
       "      <td>pharma</td>\n",
       "      <td>[pharma]</td>\n",
       "      <td>0</td>\n",
       "      <td>0</td>\n",
       "      <td>0</td>\n",
       "      <td>0</td>\n",
       "      <td>0</td>\n",
       "      <td>0</td>\n",
       "      <td>1</td>\n",
       "      <td>0</td>\n",
       "      <td>0</td>\n",
       "      <td>0</td>\n",
       "      <td>0</td>\n",
       "      <td>0</td>\n",
       "    </tr>\n",
       "    <tr>\n",
       "      <th>1</th>\n",
       "      <td>1340017965828349952t</td>\n",
       "      <td>EVEN WITH A VACCINE IT IS STILL NOT ENOUGH . T...</td>\n",
       "      <td>conspiracy political</td>\n",
       "      <td>[conspiracy, political]</td>\n",
       "      <td>1</td>\n",
       "      <td>0</td>\n",
       "      <td>0</td>\n",
       "      <td>0</td>\n",
       "      <td>0</td>\n",
       "      <td>0</td>\n",
       "      <td>0</td>\n",
       "      <td>1</td>\n",
       "      <td>0</td>\n",
       "      <td>0</td>\n",
       "      <td>0</td>\n",
       "      <td>0</td>\n",
       "    </tr>\n",
       "    <tr>\n",
       "      <th>2</th>\n",
       "      <td>1329126491649683459t</td>\n",
       "      <td>@ianbrown @DarrenPlymouth It ’ s the unknown l...</td>\n",
       "      <td>side-effect</td>\n",
       "      <td>[side-effect]</td>\n",
       "      <td>0</td>\n",
       "      <td>0</td>\n",
       "      <td>0</td>\n",
       "      <td>0</td>\n",
       "      <td>0</td>\n",
       "      <td>0</td>\n",
       "      <td>0</td>\n",
       "      <td>0</td>\n",
       "      <td>0</td>\n",
       "      <td>0</td>\n",
       "      <td>1</td>\n",
       "      <td>0</td>\n",
       "    </tr>\n",
       "    <tr>\n",
       "      <th>3</th>\n",
       "      <td>1285666197003018240t</td>\n",
       "      <td>@FACT_Exeter @K3T3R @respect65 Back to my orig...</td>\n",
       "      <td>rushed</td>\n",
       "      <td>[rushed]</td>\n",
       "      <td>0</td>\n",
       "      <td>0</td>\n",
       "      <td>0</td>\n",
       "      <td>0</td>\n",
       "      <td>0</td>\n",
       "      <td>0</td>\n",
       "      <td>0</td>\n",
       "      <td>0</td>\n",
       "      <td>0</td>\n",
       "      <td>1</td>\n",
       "      <td>0</td>\n",
       "      <td>0</td>\n",
       "    </tr>\n",
       "    <tr>\n",
       "      <th>4</th>\n",
       "      <td>1284814348679028737t</td>\n",
       "      <td>@DrJasonJohnson IMHO optimistic talk about a v...</td>\n",
       "      <td>ineffective</td>\n",
       "      <td>[ineffective]</td>\n",
       "      <td>0</td>\n",
       "      <td>0</td>\n",
       "      <td>1</td>\n",
       "      <td>0</td>\n",
       "      <td>0</td>\n",
       "      <td>0</td>\n",
       "      <td>0</td>\n",
       "      <td>0</td>\n",
       "      <td>0</td>\n",
       "      <td>0</td>\n",
       "      <td>0</td>\n",
       "      <td>0</td>\n",
       "    </tr>\n",
       "  </tbody>\n",
       "</table>\n",
       "</div>"
      ],
      "text/plain": [
       "                     ID                                               text  \\\n",
       "0  1329097028845105155t  @nbc4i Please everyone research Pfizer ’ s his...   \n",
       "1  1340017965828349952t  EVEN WITH A VACCINE IT IS STILL NOT ENOUGH . T...   \n",
       "2  1329126491649683459t  @ianbrown @DarrenPlymouth It ’ s the unknown l...   \n",
       "3  1285666197003018240t  @FACT_Exeter @K3T3R @respect65 Back to my orig...   \n",
       "4  1284814348679028737t  @DrJasonJohnson IMHO optimistic talk about a v...   \n",
       "\n",
       "                 labels              labels_list  conspiracy  country  \\\n",
       "0                pharma                 [pharma]           0        0   \n",
       "1  conspiracy political  [conspiracy, political]           1        0   \n",
       "2           side-effect            [side-effect]           0        0   \n",
       "3                rushed                 [rushed]           0        0   \n",
       "4           ineffective            [ineffective]           0        0   \n",
       "\n",
       "   ineffective  ingredients  mandatory  none  pharma  political  religious  \\\n",
       "0            0            0          0     0       1          0          0   \n",
       "1            0            0          0     0       0          1          0   \n",
       "2            0            0          0     0       0          0          0   \n",
       "3            0            0          0     0       0          0          0   \n",
       "4            1            0          0     0       0          0          0   \n",
       "\n",
       "   rushed  side-effect  unnecessary  \n",
       "0       0            0            0  \n",
       "1       0            0            0  \n",
       "2       0            1            0  \n",
       "3       1            0            0  \n",
       "4       0            0            0  "
      ]
     },
     "execution_count": 10,
     "metadata": {},
     "output_type": "execute_result"
    }
   ],
   "source": [
    "df_test.head()"
   ]
  },
  {
   "cell_type": "markdown",
   "metadata": {},
   "source": [
    "### 2.3. ktrain Text Preparation"
   ]
  },
  {
   "cell_type": "code",
   "execution_count": 11,
   "metadata": {},
   "outputs": [
    {
     "name": "stdout",
     "output_type": "stream",
     "text": [
      "['conspiracy', 'country', 'ineffective', 'ingredients', 'mandatory', 'none', 'pharma', 'political', 'religious', 'rushed', 'side-effect', 'unnecessary']\n",
      "   conspiracy  country  ineffective  ingredients  mandatory  none  pharma  \\\n",
      "0           0        0            1            0          0     0       0   \n",
      "1           0        0            0            0          0     0       0   \n",
      "2           0        0            0            0          0     0       1   \n",
      "3           0        0            0            0          0     0       0   \n",
      "4           0        0            1            0          0     0       1   \n",
      "\n",
      "   political  religious  rushed  side-effect  unnecessary  \n",
      "0          0          0       0            0            0  \n",
      "1          0          0       0            0            1  \n",
      "2          0          0       0            0            0  \n",
      "3          0          0       1            0            0  \n",
      "4          0          0       0            0            0  \n",
      "['conspiracy', 'country', 'ineffective', 'ingredients', 'mandatory', 'none', 'pharma', 'political', 'religious', 'rushed', 'side-effect', 'unnecessary']\n",
      "   conspiracy  country  ineffective  ingredients  mandatory  none  pharma  \\\n",
      "0           1        0            0            0          0     0       1   \n",
      "1           0        0            1            0          0     0       0   \n",
      "2           0        0            0            0          0     1       0   \n",
      "3           0        0            0            0          0     0       1   \n",
      "4           0        0            0            0          0     0       0   \n",
      "\n",
      "   political  religious  rushed  side-effect  unnecessary  \n",
      "0          0          0       0            0            0  \n",
      "1          0          0       0            0            0  \n",
      "2          0          0       0            0            0  \n",
      "3          0          0       1            0            0  \n",
      "4          1          0       0            0            0  \n",
      "preprocessing train...\n",
      "language: en\n",
      "train sequence lengths:\n",
      "\tmean : 41\n",
      "\t95percentile : 61\n",
      "\t99percentile : 67\n"
     ]
    },
    {
     "data": {
      "text/html": [
       "\n",
       "<style>\n",
       "    /* Turns off some styling */\n",
       "    progress {\n",
       "        /* gets rid of default border in Firefox and Opera. */\n",
       "        border: none;\n",
       "        /* Needs to be in here for Safari polyfill so background images work as expected. */\n",
       "        background-size: auto;\n",
       "    }\n",
       "    progress:not([value]), progress:not([value])::-webkit-progress-bar {\n",
       "        background: repeating-linear-gradient(45deg, #7e7e7e, #7e7e7e 10px, #5c5c5c 10px, #5c5c5c 20px);\n",
       "    }\n",
       "    .progress-bar-interrupted, .progress-bar-interrupted::-webkit-progress-bar {\n",
       "        background: #F44336;\n",
       "    }\n",
       "</style>\n"
      ],
      "text/plain": [
       "<IPython.core.display.HTML object>"
      ]
     },
     "metadata": {},
     "output_type": "display_data"
    },
    {
     "data": {
      "text/html": [],
      "text/plain": [
       "<IPython.core.display.HTML object>"
      ]
     },
     "metadata": {},
     "output_type": "display_data"
    },
    {
     "name": "stdout",
     "output_type": "stream",
     "text": [
      "Is Multi-Label? True\n",
      "preprocessing test...\n",
      "language: en\n",
      "test sequence lengths:\n",
      "\tmean : 40\n",
      "\t95percentile : 61\n",
      "\t99percentile : 68\n"
     ]
    },
    {
     "data": {
      "text/html": [
       "\n",
       "<style>\n",
       "    /* Turns off some styling */\n",
       "    progress {\n",
       "        /* gets rid of default border in Firefox and Opera. */\n",
       "        border: none;\n",
       "        /* Needs to be in here for Safari polyfill so background images work as expected. */\n",
       "        background-size: auto;\n",
       "    }\n",
       "    progress:not([value]), progress:not([value])::-webkit-progress-bar {\n",
       "        background: repeating-linear-gradient(45deg, #7e7e7e, #7e7e7e 10px, #5c5c5c 10px, #5c5c5c 20px);\n",
       "    }\n",
       "    .progress-bar-interrupted, .progress-bar-interrupted::-webkit-progress-bar {\n",
       "        background: #F44336;\n",
       "    }\n",
       "</style>\n"
      ],
      "text/plain": [
       "<IPython.core.display.HTML object>"
      ]
     },
     "metadata": {},
     "output_type": "display_data"
    },
    {
     "data": {
      "text/html": [],
      "text/plain": [
       "<IPython.core.display.HTML object>"
      ]
     },
     "metadata": {},
     "output_type": "display_data"
    }
   ],
   "source": [
    "(train, validate, preproc) = \\\n",
    "    text.texts_from_df(train_df=df_train,\n",
    "                       text_column='text',\n",
    "                       label_columns=list(vocab),\n",
    "                       val_df=df_val,\n",
    "                       maxlen=512,\n",
    "                       preprocess_mode='distilbert',\n",
    "                       ngram_range=1)"
   ]
  },
  {
   "cell_type": "markdown",
   "metadata": {},
   "source": [
    "## 3. Training"
   ]
  },
  {
   "cell_type": "markdown",
   "metadata": {},
   "source": [
    "### 3.1. Create Model"
   ]
  },
  {
   "cell_type": "code",
   "execution_count": 12,
   "metadata": {},
   "outputs": [
    {
     "name": "stdout",
     "output_type": "stream",
     "text": [
      "Is Multi-Label? True\n",
      "maxlen is 512\n",
      "done.\n"
     ]
    }
   ],
   "source": [
    " # create the model\n",
    "model = text.text_classifier(name='distilbert', \n",
    "                             train_data=train,\n",
    "                             preproc=preproc)"
   ]
  },
  {
   "cell_type": "markdown",
   "metadata": {},
   "source": [
    "### 3.2. Create Learner"
   ]
  },
  {
   "cell_type": "code",
   "execution_count": 13,
   "metadata": {},
   "outputs": [],
   "source": [
    " # create the learner\n",
    "learner = ktrain.get_learner(\n",
    "    model=model, \n",
    "    train_data=train,\n",
    "    val_data=validate,\n",
    "    batch_size=32)"
   ]
  },
  {
   "cell_type": "code",
   "execution_count": 14,
   "metadata": {},
   "outputs": [
    {
     "name": "stdout",
     "output_type": "stream",
     "text": [
      "simulating training for different learning rates... this may take a few moments...\n",
      "Epoch 1/1024\n",
      "217/217 [==============================] - 101s 382ms/step - loss: 0.6701 - binary_accuracy: 0.8980\n",
      "Epoch 2/1024\n",
      "217/217 [==============================] - 83s 385ms/step - loss: 0.4712 - binary_accuracy: 0.8980\n",
      "Epoch 3/1024\n",
      "217/217 [==============================] - 83s 382ms/step - loss: 0.2824 - binary_accuracy: 0.9053\n",
      "Epoch 4/1024\n",
      "217/217 [==============================] - 83s 381ms/step - loss: 0.2223 - binary_accuracy: 0.9215\n",
      "Epoch 5/1024\n",
      "217/217 [==============================] - 83s 381ms/step - loss: 0.2916 - binary_accuracy: 0.8992\n",
      "Epoch 6/1024\n",
      "217/217 [==============================] - 83s 381ms/step - loss: 0.6187 - binary_accuracy: 0.8905\n",
      "Epoch 7/1024\n",
      "217/217 [==============================] - 0s 7us/step - loss: 103.0974 - binary_accuracy: 0.4583\n",
      "\n",
      "\n",
      "done.\n",
      "Please invoke the Learner.lr_plot() method to visually inspect the loss plot to help identify the maximal learning rate associated with falling loss.\n"
     ]
    },
    {
     "data": {
      "image/png": "[encoded data removed]",
      "text/plain": [
       "<Figure size 640x480 with 1 Axes>"
      ]
     },
     "metadata": {},
     "output_type": "display_data"
    }
   ],
   "source": [
    "# find best learning rate\n",
    "learner.lr_find()\n",
    "learner.lr_plot()"
   ]
  },
  {
   "cell_type": "markdown",
   "metadata": {},
   "source": [
    "### 3.3. Fit the model"
   ]
  },
  {
   "cell_type": "code",
   "execution_count": 15,
   "metadata": {},
   "outputs": [
    {
     "name": "stdout",
     "output_type": "stream",
     "text": [
      "early_stopping automatically enabled at patience=5\n",
      "reduce_on_plateau automatically enabled at patience=2\n",
      "\n",
      "\n",
      "begin training using triangular learning rate policy with max lr of 0.0001...\n",
      "Epoch 1/1024\n",
      "218/218 [==============================] - 95s 397ms/step - loss: 0.2745 - accuracy: 0.4022 - val_loss: 0.2070 - val_accuracy: 0.5461\n",
      "Epoch 2/1024\n",
      "218/218 [==============================] - 84s 386ms/step - loss: 0.1878 - accuracy: 0.5984 - val_loss: 0.1798 - val_accuracy: 0.5927\n",
      "Epoch 3/1024\n",
      "218/218 [==============================] - 84s 387ms/step - loss: 0.1480 - accuracy: 0.6763 - val_loss: 0.1699 - val_accuracy: 0.6292\n",
      "Epoch 4/1024\n",
      "218/218 [==============================] - 84s 386ms/step - loss: 0.1150 - accuracy: 0.7503 - val_loss: 0.1733 - val_accuracy: 0.6302\n",
      "Epoch 5/1024\n",
      "218/218 [==============================] - ETA: 0s - loss: 0.0893 - accuracy: 0.8001\n",
      "Epoch 00005: Reducing Max LR on Plateau: new max lr will be 5e-05 (if not early_stopping).\n",
      "218/218 [==============================] - 84s 386ms/step - loss: 0.0893 - accuracy: 0.8001 - val_loss: 0.1783 - val_accuracy: 0.6201\n",
      "Epoch 6/1024\n",
      "218/218 [==============================] - 84s 386ms/step - loss: 0.0625 - accuracy: 0.8473 - val_loss: 0.1925 - val_accuracy: 0.6150\n",
      "Epoch 7/1024\n",
      "218/218 [==============================] - ETA: 0s - loss: 0.0470 - accuracy: 0.8610\n",
      "Epoch 00007: Reducing Max LR on Plateau: new max lr will be 2.5e-05 (if not early_stopping).\n",
      "218/218 [==============================] - 84s 386ms/step - loss: 0.0470 - accuracy: 0.8610 - val_loss: 0.2030 - val_accuracy: 0.6140\n",
      "Epoch 8/1024\n",
      "218/218 [==============================] - ETA: 0s - loss: 0.0348 - accuracy: 0.8698Restoring model weights from the end of the best epoch: 3.\n",
      "218/218 [==============================] - 84s 387ms/step - loss: 0.0348 - accuracy: 0.8698 - val_loss: 0.2136 - val_accuracy: 0.6211\n",
      "Epoch 8: early stopping\n",
      "Weights from best epoch have been loaded into model.\n"
     ]
    }
   ],
   "source": [
    "history = learner.autofit(lr=1e-4)"
   ]
  },
  {
   "cell_type": "code",
   "execution_count": 17,
   "metadata": {},
   "outputs": [
    {
     "data": {
      "image/png": "[encoded data removed]",
      "text/plain": [
       "<Figure size 640x480 with 1 Axes>"
      ]
     },
     "metadata": {},
     "output_type": "display_data"
    },
    {
     "data": {
      "image/png": "[encoded data removed]",
      "text/plain": [
       "<Figure size 640x480 with 1 Axes>"
      ]
     },
     "metadata": {},
     "output_type": "display_data"
    }
   ],
   "source": [
    "# plot the training history\n",
    "learner.plot('loss')\n",
    "learner.plot('lr')"
   ]
  },
  {
   "cell_type": "code",
   "execution_count": 20,
   "metadata": {},
   "outputs": [],
   "source": [
    "# save the model\n",
    "predictor = ktrain.get_predictor(learner.model, preproc)\n",
    "predictor.save('../../models/01-01_bert_predictor')"
   ]
  },
  {
   "cell_type": "markdown",
   "metadata": {},
   "source": [
    "## 4. Evaluating the model"
   ]
  },
  {
   "cell_type": "markdown",
   "metadata": {},
   "source": [
    "### 4.1. Classification Report"
   ]
  },
  {
   "cell_type": "code",
   "execution_count": 68,
   "metadata": {},
   "outputs": [],
   "source": [
    "def show_classification_report(data:pd.DataFrame,\n",
    "                               y_pred:np.ndarray,\n",
    "                               threshold:float=0.5):\n",
    "    # get the true labels\n",
    "    y_true = data[vocab].values\n",
    "    \n",
    "    # Convert predictions to binary\n",
    "    y_pred_bin = [[int(prob > threshold) for label, prob in pred] for pred in y_pred]\n",
    "    \n",
    "    # show the classification report\n",
    "    print(classification_report(y_true, y_pred_bin, target_names=vocab))    "
   ]
  },
  {
   "cell_type": "code",
   "execution_count": 70,
   "metadata": {},
   "outputs": [
    {
     "name": "stdout",
     "output_type": "stream",
     "text": [
      "              precision    recall  f1-score   support\n",
      "\n",
      "  conspiracy       0.57      0.16      0.26        97\n",
      "     country       0.72      0.33      0.45        40\n",
      " ineffective       0.71      0.66      0.68       334\n",
      " ingredients       0.68      0.49      0.57        87\n",
      "   mandatory       0.80      0.65      0.72       157\n",
      "        none       0.52      0.24      0.33       126\n",
      "      pharma       0.73      0.46      0.57       255\n",
      "   political       0.72      0.34      0.46       125\n",
      "   religious       0.00      0.00      0.00        13\n",
      "      rushed       0.68      0.66      0.67       295\n",
      " side-effect       0.83      0.77      0.80       762\n",
      " unnecessary       0.88      0.05      0.09       145\n",
      "\n",
      "   micro avg       0.75      0.56      0.64      2436\n",
      "   macro avg       0.65      0.40      0.47      2436\n",
      "weighted avg       0.74      0.56      0.61      2436\n",
      " samples avg       0.64      0.59      0.60      2436\n",
      "\n"
     ]
    },
    {
     "name": "stderr",
     "output_type": "stream",
     "text": [
      "/home/johnny/swan/miniconda3/envs/caves-data/lib/python3.10/site-packages/sklearn/metrics/_classification.py:1509: UndefinedMetricWarning: Precision is ill-defined and being set to 0.0 in labels with no predicted samples. Use `zero_division` parameter to control this behavior.\n",
      "  _warn_prf(average, modifier, f\"{metric.capitalize()} is\", len(result))\n",
      "/home/johnny/swan/miniconda3/envs/caves-data/lib/python3.10/site-packages/sklearn/metrics/_classification.py:1509: UndefinedMetricWarning: Precision is ill-defined and being set to 0.0 in samples with no predicted labels. Use `zero_division` parameter to control this behavior.\n",
      "  _warn_prf(average, modifier, f\"{metric.capitalize()} is\", len(result))\n"
     ]
    }
   ],
   "source": [
    "# show the test classification report\n",
    "y_pred = predictor.predict(df_test.text.values.tolist())\n",
    "show_classification_report(df_test, y_pred)"
   ]
  }
 ],
 "metadata": {
  "kernelspec": {
   "display_name": "caves-data",
   "language": "python",
   "name": "python3"
  },
  "language_info": {
   "codemirror_mode": {
    "name": "ipython",
    "version": 3
   },
   "file_extension": ".py",
   "mimetype": "text/x-python",
   "name": "python",
   "nbconvert_exporter": "python",
   "pygments_lexer": "ipython3",
   "version": "3.10.14"
  }
 },
 "nbformat": 4,
 "nbformat_minor": 2
}
